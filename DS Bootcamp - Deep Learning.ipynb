{
 "cells": [
  {
   "cell_type": "markdown",
   "metadata": {},
   "source": [
    "TensorFlow is an open source library developed by Google\n",
    "\n",
    "It can run on either CPU or GPU, but Neural Networks are usually much faster on GPU.\n",
    "\n",
    "The basic idea of TensorFlow is to create data flow graphs\n",
    "\n",
    "These graphs have nodes and edges to represent the design of neural nets\n",
    "\n",
    "The arrays (data) passed along from layer of nodes to layer of nodes is known as a Tensor\n",
    "\n",
    "There are two ways to use TensorFlow:\n",
    "\n",
    "-- Customizable graph session\n",
    "\n",
    "-- Sci-Kit Learn type interface with Contrib.Learn\n",
    "\n",
    "This bootcamp will utilize Contrib.Learn "
   ]
  },
  {
   "cell_type": "code",
   "execution_count": 1,
   "metadata": {},
   "outputs": [
    {
     "name": "stderr",
     "output_type": "stream",
     "text": [
      "C:\\Users\\casey\\Anaconda3\\lib\\site-packages\\h5py\\__init__.py:36: FutureWarning: Conversion of the second argument of issubdtype from `float` to `np.floating` is deprecated. In future, it will be treated as `np.float64 == np.dtype(float).type`.\n",
      "  from ._conv import register_converters as _register_converters\n"
     ]
    }
   ],
   "source": [
    "import tensorflow as tf"
   ]
  },
  {
   "cell_type": "code",
   "execution_count": 3,
   "metadata": {},
   "outputs": [
    {
     "data": {
      "text/plain": [
       "tensorflow.python.framework.ops.Tensor"
      ]
     },
     "execution_count": 3,
     "metadata": {},
     "output_type": "execute_result"
    }
   ],
   "source": [
    "# constants in tensorflow are stored in tensor objects\n",
    "\n",
    "hello = tf.constant('Hello World')\n",
    "type(hello)"
   ]
  },
  {
   "cell_type": "code",
   "execution_count": 5,
   "metadata": {},
   "outputs": [],
   "source": [
    "x = tf.constant(100)"
   ]
  },
  {
   "cell_type": "code",
   "execution_count": 6,
   "metadata": {},
   "outputs": [
    {
     "data": {
      "text/plain": [
       "<tf.Tensor 'Const_2:0' shape=() dtype=int32>"
      ]
     },
     "execution_count": 6,
     "metadata": {},
     "output_type": "execute_result"
    }
   ],
   "source": [
    "x"
   ]
  },
  {
   "cell_type": "code",
   "execution_count": 7,
   "metadata": {},
   "outputs": [],
   "source": [
    "# sessions are a class for running tensorflow operations - environment where operations are conducted\n",
    "\n",
    "sess = tf.Session()"
   ]
  },
  {
   "cell_type": "code",
   "execution_count": 8,
   "metadata": {},
   "outputs": [
    {
     "data": {
      "text/plain": [
       "b'Hello World'"
      ]
     },
     "execution_count": 8,
     "metadata": {},
     "output_type": "execute_result"
    }
   ],
   "source": [
    "sess.run(hello) # b is just a unicode indication"
   ]
  },
  {
   "cell_type": "code",
   "execution_count": 9,
   "metadata": {},
   "outputs": [
    {
     "data": {
      "text/plain": [
       "100"
      ]
     },
     "execution_count": 9,
     "metadata": {},
     "output_type": "execute_result"
    }
   ],
   "source": [
    "sess.run(x)"
   ]
  },
  {
   "cell_type": "code",
   "execution_count": 10,
   "metadata": {},
   "outputs": [
    {
     "data": {
      "text/plain": [
       "numpy.int32"
      ]
     },
     "execution_count": 10,
     "metadata": {},
     "output_type": "execute_result"
    }
   ],
   "source": [
    "type(sess.run(x))"
   ]
  },
  {
   "cell_type": "code",
   "execution_count": 11,
   "metadata": {},
   "outputs": [],
   "source": [
    "# Tensorflow Operations\n",
    "\n",
    "x = tf.constant(2)\n",
    "y = tf.constant(3)"
   ]
  },
  {
   "cell_type": "code",
   "execution_count": 15,
   "metadata": {},
   "outputs": [
    {
     "name": "stdout",
     "output_type": "stream",
     "text": [
      "Operations with Constants\n",
      "5\n",
      "-1\n",
      "6\n",
      "8\n"
     ]
    }
   ],
   "source": [
    "with tf.Session() as sess:\n",
    "    print('Operations with Constants')\n",
    "    print(sess.run(x + y))\n",
    "    print(sess.run(x - y))\n",
    "    print(sess.run(x * y))\n",
    "    print(sess.run(x ** y))"
   ]
  },
  {
   "cell_type": "code",
   "execution_count": 16,
   "metadata": {},
   "outputs": [],
   "source": [
    "# another object type in Tensorflow is a Placeholder\n",
    "\n",
    "x = tf.placeholder(tf.int32)\n",
    "y = tf.placeholder(tf.int32)"
   ]
  },
  {
   "cell_type": "code",
   "execution_count": 20,
   "metadata": {},
   "outputs": [],
   "source": [
    "# now that we have placeholders, we can define operations with variable inputs (last one used constant input)\n",
    "\n",
    "add = tf.add(x,y)\n",
    "sub = tf.subtract(x,y)\n",
    "mult = tf.multiply(x,y)"
   ]
  },
  {
   "cell_type": "code",
   "execution_count": 22,
   "metadata": {},
   "outputs": [
    {
     "name": "stdout",
     "output_type": "stream",
     "text": [
      "Operations with Placeholders\n",
      "50\n",
      "-10\n",
      "600\n"
     ]
    }
   ],
   "source": [
    "with tf.Session() as sess:\n",
    "    print('Operations with Placeholders')\n",
    "    print(sess.run(add, feed_dict = {x:20, y:30})) \n",
    "    print(sess.run(sub, feed_dict = {x:20, y:30})) \n",
    "    print(sess.run(mult, feed_dict = {x:20, y:30})) \n",
    "    \n",
    "# second argument is feed_dict - pass in dictionary as keys, not strings"
   ]
  },
  {
   "cell_type": "code",
   "execution_count": 23,
   "metadata": {},
   "outputs": [
    {
     "name": "stdout",
     "output_type": "stream",
     "text": [
      "Operations with Placeholders\n",
      "50\n",
      "-10\n",
      "600\n"
     ]
    }
   ],
   "source": [
    "# can also use a dictionary object and pass that in\n",
    "\n",
    "d = {x:20, y:30}\n",
    "\n",
    "with tf.Session() as sess:\n",
    "    print('Operations with Placeholders')\n",
    "    print(sess.run(add, feed_dict = d)) \n",
    "    print(sess.run(sub, feed_dict = d)) \n",
    "    print(sess.run(mult, feed_dict = d)) \n"
   ]
  },
  {
   "cell_type": "code",
   "execution_count": 24,
   "metadata": {},
   "outputs": [],
   "source": [
    "# matrix multiplication \n",
    "\n",
    "import numpy as np"
   ]
  },
  {
   "cell_type": "code",
   "execution_count": 31,
   "metadata": {},
   "outputs": [],
   "source": [
    "# opposite shapes allows for matrix multiplication \n",
    "# a has double brackets around both values to make it 1 x 2 and b has brackets around each value to make it 2 x 1\n",
    "\n",
    "a = np.array([[5.0, 5.0]])\n",
    "b = np.array([[2.0], [2.0]])"
   ]
  },
  {
   "cell_type": "code",
   "execution_count": 32,
   "metadata": {},
   "outputs": [
    {
     "data": {
      "text/plain": [
       "(1, 2)"
      ]
     },
     "execution_count": 32,
     "metadata": {},
     "output_type": "execute_result"
    }
   ],
   "source": [
    "a.shape"
   ]
  },
  {
   "cell_type": "code",
   "execution_count": 33,
   "metadata": {},
   "outputs": [
    {
     "data": {
      "text/plain": [
       "(2, 1)"
      ]
     },
     "execution_count": 33,
     "metadata": {},
     "output_type": "execute_result"
    }
   ],
   "source": [
    "b.shape"
   ]
  },
  {
   "cell_type": "code",
   "execution_count": 35,
   "metadata": {},
   "outputs": [],
   "source": [
    "# convert to tensorflow constants\n",
    "\n",
    "mat1 = tf.constant(a)\n",
    "mat2 = tf.constant(b)"
   ]
  },
  {
   "cell_type": "code",
   "execution_count": 36,
   "metadata": {},
   "outputs": [],
   "source": [
    "# create matrix multiplication object\n",
    "\n",
    "matrix_multi = tf.matmul(mat1, mat2)"
   ]
  },
  {
   "cell_type": "code",
   "execution_count": 37,
   "metadata": {},
   "outputs": [
    {
     "name": "stdout",
     "output_type": "stream",
     "text": [
      "[[20.]]\n"
     ]
    }
   ],
   "source": [
    "with tf.Session() as sess:\n",
    "    result = sess.run(matrix_multi) \n",
    "    print(result)\n",
    "    \n",
    "# don't need dictionary because they've already been passed into matrix_multi as mat1 and mat2"
   ]
  },
  {
   "cell_type": "code",
   "execution_count": 38,
   "metadata": {},
   "outputs": [],
   "source": [
    "# moving onto MNIST data set\n",
    "\n",
    "# data contains handwritten numbers between 0 and 9 with a collection of arrays representing their pixels"
   ]
  },
  {
   "cell_type": "code",
   "execution_count": 42,
   "metadata": {},
   "outputs": [],
   "source": [
    "import os\n",
    "os.chdir('C:\\\\Users\\\\casey\\\\Downloads\\\\Python-Data-Science-and-Machine-Learning-Bootcamp-master\\\\Deep Learning')"
   ]
  },
  {
   "cell_type": "code",
   "execution_count": 43,
   "metadata": {},
   "outputs": [],
   "source": [
    "from tensorflow.examples.tutorials.mnist import input_data"
   ]
  },
  {
   "cell_type": "code",
   "execution_count": 44,
   "metadata": {},
   "outputs": [
    {
     "name": "stdout",
     "output_type": "stream",
     "text": [
      "WARNING:tensorflow:From <ipython-input-44-eef628746518>:1: read_data_sets (from tensorflow.contrib.learn.python.learn.datasets.mnist) is deprecated and will be removed in a future version.\n",
      "Instructions for updating:\n",
      "Please use alternatives such as official/mnist/dataset.py from tensorflow/models.\n",
      "WARNING:tensorflow:From C:\\Users\\casey\\Anaconda3\\lib\\site-packages\\tensorflow\\contrib\\learn\\python\\learn\\datasets\\mnist.py:260: maybe_download (from tensorflow.contrib.learn.python.learn.datasets.base) is deprecated and will be removed in a future version.\n",
      "Instructions for updating:\n",
      "Please write your own downloading logic.\n",
      "WARNING:tensorflow:From C:\\Users\\casey\\Anaconda3\\lib\\site-packages\\tensorflow\\contrib\\learn\\python\\learn\\datasets\\mnist.py:262: extract_images (from tensorflow.contrib.learn.python.learn.datasets.mnist) is deprecated and will be removed in a future version.\n",
      "Instructions for updating:\n",
      "Please use tf.data to implement this functionality.\n",
      "Extracting MNIST_data/train-images-idx3-ubyte.gz\n",
      "WARNING:tensorflow:From C:\\Users\\casey\\Anaconda3\\lib\\site-packages\\tensorflow\\contrib\\learn\\python\\learn\\datasets\\mnist.py:267: extract_labels (from tensorflow.contrib.learn.python.learn.datasets.mnist) is deprecated and will be removed in a future version.\n",
      "Instructions for updating:\n",
      "Please use tf.data to implement this functionality.\n",
      "Extracting MNIST_data/train-labels-idx1-ubyte.gz\n",
      "WARNING:tensorflow:From C:\\Users\\casey\\Anaconda3\\lib\\site-packages\\tensorflow\\contrib\\learn\\python\\learn\\datasets\\mnist.py:110: dense_to_one_hot (from tensorflow.contrib.learn.python.learn.datasets.mnist) is deprecated and will be removed in a future version.\n",
      "Instructions for updating:\n",
      "Please use tf.one_hot on tensors.\n",
      "Extracting MNIST_data/t10k-images-idx3-ubyte.gz\n",
      "Extracting MNIST_data/t10k-labels-idx1-ubyte.gz\n",
      "WARNING:tensorflow:From C:\\Users\\casey\\Anaconda3\\lib\\site-packages\\tensorflow\\contrib\\learn\\python\\learn\\datasets\\mnist.py:290: DataSet.__init__ (from tensorflow.contrib.learn.python.learn.datasets.mnist) is deprecated and will be removed in a future version.\n",
      "Instructions for updating:\n",
      "Please use alternatives such as official/mnist/dataset.py from tensorflow/models.\n"
     ]
    }
   ],
   "source": [
    "mnist = input_data.read_data_sets('MNIST_data/', one_hot = True)\n",
    "\n",
    "# one_hot = True means that target or label are one hot encoded\n",
    "\n",
    "# this will make the possible answers an array of  values representing 0-9 where 1 signifies the correct answer\n",
    "\n",
    "# ([0, 0, 0, 0, 1, 0, 0, 0, 0, 0]) is the 5th position, which means the number was a 4"
   ]
  },
  {
   "cell_type": "code",
   "execution_count": 45,
   "metadata": {},
   "outputs": [
    {
     "data": {
      "text/plain": [
       "tensorflow.contrib.learn.python.learn.datasets.base.Datasets"
      ]
     },
     "execution_count": 45,
     "metadata": {},
     "output_type": "execute_result"
    }
   ],
   "source": [
    "type(mnist)"
   ]
  },
  {
   "cell_type": "code",
   "execution_count": 47,
   "metadata": {},
   "outputs": [
    {
     "data": {
      "text/plain": [
       "(55000, 784)"
      ]
     },
     "execution_count": 47,
     "metadata": {},
     "output_type": "execute_result"
    }
   ],
   "source": [
    "mnist.train.images.shape # 55000 images, 784 pixels per image"
   ]
  },
  {
   "cell_type": "code",
   "execution_count": 48,
   "metadata": {},
   "outputs": [
    {
     "data": {
      "text/plain": [
       "55000"
      ]
     },
     "execution_count": 48,
     "metadata": {},
     "output_type": "execute_result"
    }
   ],
   "source": [
    "mnist.train.num_examples # confirmed 55000 training examples"
   ]
  },
  {
   "cell_type": "code",
   "execution_count": 49,
   "metadata": {},
   "outputs": [
    {
     "data": {
      "text/plain": [
       "10000"
      ]
     },
     "execution_count": 49,
     "metadata": {},
     "output_type": "execute_result"
    }
   ],
   "source": [
    "mnist.test.num_examples # 10000 in testing set"
   ]
  },
  {
   "cell_type": "code",
   "execution_count": 50,
   "metadata": {},
   "outputs": [],
   "source": [
    "import matplotlib.pyplot as plt\n",
    "%matplotlib inline"
   ]
  },
  {
   "cell_type": "code",
   "execution_count": 53,
   "metadata": {},
   "outputs": [
    {
     "data": {
      "text/plain": [
       "array([0.        , 0.        , 0.        , 0.        , 0.        ,\n",
       "       0.        , 0.        , 0.        , 0.        , 0.        ,\n",
       "       0.        , 0.        , 0.        , 0.        , 0.        ,\n",
       "       0.        , 0.        , 0.        , 0.        , 0.        ,\n",
       "       0.        , 0.        , 0.        , 0.        , 0.        ,\n",
       "       0.        , 0.        , 0.        , 0.        , 0.        ,\n",
       "       0.        , 0.        , 0.        , 0.        , 0.        ,\n",
       "       0.        , 0.        , 0.        , 0.        , 0.        ,\n",
       "       0.        , 0.        , 0.        , 0.        , 0.        ,\n",
       "       0.        , 0.        , 0.        , 0.        , 0.        ,\n",
       "       0.        , 0.        , 0.        , 0.        , 0.        ,\n",
       "       0.        , 0.        , 0.        , 0.        , 0.        ,\n",
       "       0.        , 0.        , 0.        , 0.        , 0.        ,\n",
       "       0.        , 0.        , 0.        , 0.        , 0.        ,\n",
       "       0.        , 0.        , 0.        , 0.        , 0.        ,\n",
       "       0.        , 0.        , 0.        , 0.        , 0.        ,\n",
       "       0.        , 0.        , 0.        , 0.        , 0.        ,\n",
       "       0.        , 0.        , 0.        , 0.        , 0.        ,\n",
       "       0.        , 0.        , 0.        , 0.        , 0.        ,\n",
       "       0.        , 0.        , 0.        , 0.        , 0.        ,\n",
       "       0.        , 0.        , 0.        , 0.        , 0.        ,\n",
       "       0.        , 0.        , 0.        , 0.        , 0.        ,\n",
       "       0.        , 0.        , 0.        , 0.        , 0.        ,\n",
       "       0.        , 0.        , 0.        , 0.        , 0.        ,\n",
       "       0.        , 0.        , 0.        , 0.        , 0.        ,\n",
       "       0.        , 0.        , 0.        , 0.        , 0.        ,\n",
       "       0.        , 0.        , 0.        , 0.        , 0.        ,\n",
       "       0.        , 0.        , 0.        , 0.        , 0.        ,\n",
       "       0.        , 0.        , 0.        , 0.        , 0.        ,\n",
       "       0.        , 0.        , 0.        , 0.        , 0.        ,\n",
       "       0.        , 0.        , 0.        , 0.12156864, 0.5176471 ,\n",
       "       0.9960785 , 0.9921569 , 0.9960785 , 0.8352942 , 0.32156864,\n",
       "       0.        , 0.        , 0.        , 0.        , 0.        ,\n",
       "       0.        , 0.        , 0.        , 0.        , 0.        ,\n",
       "       0.        , 0.        , 0.        , 0.        , 0.        ,\n",
       "       0.        , 0.        , 0.        , 0.        , 0.08235294,\n",
       "       0.5568628 , 0.91372555, 0.98823535, 0.9921569 , 0.98823535,\n",
       "       0.9921569 , 0.98823535, 0.8745099 , 0.07843138, 0.        ,\n",
       "       0.        , 0.        , 0.        , 0.        , 0.        ,\n",
       "       0.        , 0.        , 0.        , 0.        , 0.        ,\n",
       "       0.        , 0.        , 0.        , 0.        , 0.        ,\n",
       "       0.        , 0.48235297, 0.9960785 , 0.9921569 , 0.9960785 ,\n",
       "       0.9921569 , 0.87843144, 0.7960785 , 0.7960785 , 0.8745099 ,\n",
       "       1.        , 0.8352942 , 0.        , 0.        , 0.        ,\n",
       "       0.        , 0.        , 0.        , 0.        , 0.        ,\n",
       "       0.        , 0.        , 0.        , 0.        , 0.        ,\n",
       "       0.        , 0.        , 0.        , 0.        , 0.7960785 ,\n",
       "       0.9921569 , 0.98823535, 0.9921569 , 0.8313726 , 0.07843138,\n",
       "       0.        , 0.        , 0.2392157 , 0.9921569 , 0.98823535,\n",
       "       0.        , 0.        , 0.        , 0.        , 0.        ,\n",
       "       0.        , 0.        , 0.        , 0.        , 0.        ,\n",
       "       0.        , 0.        , 0.        , 0.        , 0.        ,\n",
       "       0.        , 0.16078432, 0.95294124, 0.87843144, 0.7960785 ,\n",
       "       0.7176471 , 0.16078432, 0.59607846, 0.11764707, 0.        ,\n",
       "       0.        , 1.        , 0.9921569 , 0.40000004, 0.        ,\n",
       "       0.        , 0.        , 0.        , 0.        , 0.        ,\n",
       "       0.        , 0.        , 0.        , 0.        , 0.        ,\n",
       "       0.        , 0.        , 0.        , 0.        , 0.        ,\n",
       "       0.15686275, 0.07843138, 0.        , 0.        , 0.40000004,\n",
       "       0.9921569 , 0.19607845, 0.        , 0.32156864, 0.9921569 ,\n",
       "       0.98823535, 0.07843138, 0.        , 0.        , 0.        ,\n",
       "       0.        , 0.        , 0.        , 0.        , 0.        ,\n",
       "       0.        , 0.        , 0.        , 0.        , 0.        ,\n",
       "       0.        , 0.        , 0.        , 0.        , 0.        ,\n",
       "       0.        , 0.        , 0.32156864, 0.83921576, 0.12156864,\n",
       "       0.4431373 , 0.91372555, 0.9960785 , 0.91372555, 0.        ,\n",
       "       0.        , 0.        , 0.        , 0.        , 0.        ,\n",
       "       0.        , 0.        , 0.        , 0.        , 0.        ,\n",
       "       0.        , 0.        , 0.        , 0.        , 0.        ,\n",
       "       0.        , 0.        , 0.24313727, 0.40000004, 0.32156864,\n",
       "       0.16078432, 0.9921569 , 0.909804  , 0.9921569 , 0.98823535,\n",
       "       0.91372555, 0.19607845, 0.        , 0.        , 0.        ,\n",
       "       0.        , 0.        , 0.        , 0.        , 0.        ,\n",
       "       0.        , 0.        , 0.        , 0.        , 0.        ,\n",
       "       0.        , 0.        , 0.        , 0.        , 0.        ,\n",
       "       0.59607846, 0.9921569 , 0.9960785 , 0.9921569 , 0.9960785 ,\n",
       "       0.9921569 , 0.9960785 , 0.91372555, 0.48235297, 0.        ,\n",
       "       0.        , 0.        , 0.        , 0.        , 0.        ,\n",
       "       0.        , 0.        , 0.        , 0.        , 0.        ,\n",
       "       0.        , 0.        , 0.        , 0.        , 0.        ,\n",
       "       0.        , 0.        , 0.        , 0.59607846, 0.98823535,\n",
       "       0.9921569 , 0.98823535, 0.9921569 , 0.98823535, 0.75294125,\n",
       "       0.19607845, 0.        , 0.        , 0.        , 0.        ,\n",
       "       0.        , 0.        , 0.        , 0.        , 0.        ,\n",
       "       0.        , 0.        , 0.        , 0.        , 0.        ,\n",
       "       0.        , 0.        , 0.        , 0.        , 0.        ,\n",
       "       0.        , 0.24313727, 0.7176471 , 0.7960785 , 0.95294124,\n",
       "       0.9960785 , 0.9921569 , 0.24313727, 0.        , 0.        ,\n",
       "       0.        , 0.        , 0.        , 0.        , 0.        ,\n",
       "       0.        , 0.        , 0.        , 0.        , 0.        ,\n",
       "       0.        , 0.        , 0.        , 0.        , 0.        ,\n",
       "       0.        , 0.        , 0.        , 0.        , 0.        ,\n",
       "       0.        , 0.        , 0.15686275, 0.6745098 , 0.98823535,\n",
       "       0.7960785 , 0.07843138, 0.        , 0.        , 0.        ,\n",
       "       0.        , 0.        , 0.        , 0.        , 0.        ,\n",
       "       0.        , 0.        , 0.        , 0.        , 0.        ,\n",
       "       0.        , 0.        , 0.08235294, 0.        , 0.        ,\n",
       "       0.        , 0.        , 0.        , 0.        , 0.        ,\n",
       "       0.        , 0.        , 0.7176471 , 0.9960785 , 0.43921572,\n",
       "       0.        , 0.        , 0.        , 0.        , 0.        ,\n",
       "       0.        , 0.        , 0.        , 0.        , 0.        ,\n",
       "       0.        , 0.        , 0.        , 0.        , 0.24313727,\n",
       "       0.7960785 , 0.6392157 , 0.        , 0.        , 0.        ,\n",
       "       0.        , 0.        , 0.        , 0.        , 0.        ,\n",
       "       0.2392157 , 0.9921569 , 0.5921569 , 0.        , 0.        ,\n",
       "       0.        , 0.        , 0.        , 0.        , 0.        ,\n",
       "       0.        , 0.        , 0.        , 0.        , 0.        ,\n",
       "       0.        , 0.08235294, 0.83921576, 0.75294125, 0.        ,\n",
       "       0.        , 0.        , 0.        , 0.        , 0.        ,\n",
       "       0.        , 0.        , 0.04313726, 0.8352942 , 0.9960785 ,\n",
       "       0.5921569 , 0.        , 0.        , 0.        , 0.        ,\n",
       "       0.        , 0.        , 0.        , 0.        , 0.        ,\n",
       "       0.        , 0.        , 0.        , 0.        , 0.40000004,\n",
       "       0.9921569 , 0.5921569 , 0.        , 0.        , 0.        ,\n",
       "       0.        , 0.        , 0.        , 0.        , 0.16078432,\n",
       "       0.8352942 , 0.98823535, 0.9921569 , 0.43529415, 0.        ,\n",
       "       0.        , 0.        , 0.        , 0.        , 0.        ,\n",
       "       0.        , 0.        , 0.        , 0.        , 0.        ,\n",
       "       0.        , 0.        , 0.16078432, 1.        , 0.8352942 ,\n",
       "       0.36078432, 0.20000002, 0.        , 0.        , 0.12156864,\n",
       "       0.36078432, 0.6784314 , 0.9921569 , 0.9960785 , 0.9921569 ,\n",
       "       0.5568628 , 0.        , 0.        , 0.        , 0.        ,\n",
       "       0.        , 0.        , 0.        , 0.        , 0.        ,\n",
       "       0.        , 0.        , 0.        , 0.        , 0.        ,\n",
       "       0.        , 0.6745098 , 0.98823535, 0.9921569 , 0.98823535,\n",
       "       0.7960785 , 0.7960785 , 0.91372555, 0.98823535, 0.9921569 ,\n",
       "       0.98823535, 0.9921569 , 0.50980395, 0.07843138, 0.        ,\n",
       "       0.        , 0.        , 0.        , 0.        , 0.        ,\n",
       "       0.        , 0.        , 0.        , 0.        , 0.        ,\n",
       "       0.        , 0.        , 0.        , 0.        , 0.08235294,\n",
       "       0.7960785 , 1.        , 0.9921569 , 0.9960785 , 0.9921569 ,\n",
       "       0.9960785 , 0.9921569 , 0.9568628 , 0.7960785 , 0.32156864,\n",
       "       0.        , 0.        , 0.        , 0.        , 0.        ,\n",
       "       0.        , 0.        , 0.        , 0.        , 0.        ,\n",
       "       0.        , 0.        , 0.        , 0.        , 0.        ,\n",
       "       0.        , 0.        , 0.        , 0.07843138, 0.5921569 ,\n",
       "       0.5921569 , 0.9921569 , 0.67058825, 0.5921569 , 0.5921569 ,\n",
       "       0.15686275, 0.        , 0.        , 0.        , 0.        ,\n",
       "       0.        , 0.        , 0.        , 0.        , 0.        ,\n",
       "       0.        , 0.        , 0.        , 0.        , 0.        ,\n",
       "       0.        , 0.        , 0.        , 0.        , 0.        ,\n",
       "       0.        , 0.        , 0.        , 0.        , 0.        ,\n",
       "       0.        , 0.        , 0.        , 0.        , 0.        ,\n",
       "       0.        , 0.        , 0.        , 0.        , 0.        ,\n",
       "       0.        , 0.        , 0.        , 0.        , 0.        ,\n",
       "       0.        , 0.        , 0.        , 0.        , 0.        ,\n",
       "       0.        , 0.        , 0.        , 0.        , 0.        ,\n",
       "       0.        , 0.        , 0.        , 0.        , 0.        ,\n",
       "       0.        , 0.        , 0.        , 0.        , 0.        ,\n",
       "       0.        , 0.        , 0.        , 0.        , 0.        ,\n",
       "       0.        , 0.        , 0.        , 0.        , 0.        ,\n",
       "       0.        , 0.        , 0.        , 0.        , 0.        ,\n",
       "       0.        , 0.        , 0.        , 0.        , 0.        ,\n",
       "       0.        , 0.        , 0.        , 0.        , 0.        ,\n",
       "       0.        , 0.        , 0.        , 0.        , 0.        ,\n",
       "       0.        , 0.        , 0.        , 0.        , 0.        ,\n",
       "       0.        , 0.        , 0.        , 0.        ], dtype=float32)"
      ]
     },
     "execution_count": 53,
     "metadata": {},
     "output_type": "execute_result"
    }
   ],
   "source": [
    "mnist.train.images[1]"
   ]
  },
  {
   "cell_type": "code",
   "execution_count": 54,
   "metadata": {},
   "outputs": [
    {
     "data": {
      "text/plain": [
       "(784,)"
      ]
     },
     "execution_count": 54,
     "metadata": {},
     "output_type": "execute_result"
    }
   ],
   "source": [
    "mnist.train.images[1].shape"
   ]
  },
  {
   "cell_type": "code",
   "execution_count": 55,
   "metadata": {},
   "outputs": [
    {
     "data": {
      "text/plain": [
       "array([[0.        , 0.        , 0.        , 0.        , 0.        ,\n",
       "        0.        , 0.        , 0.        , 0.        , 0.        ,\n",
       "        0.        , 0.        , 0.        , 0.        , 0.        ,\n",
       "        0.        , 0.        , 0.        , 0.        , 0.        ,\n",
       "        0.        , 0.        , 0.        , 0.        , 0.        ,\n",
       "        0.        , 0.        , 0.        ],\n",
       "       [0.        , 0.        , 0.        , 0.        , 0.        ,\n",
       "        0.        , 0.        , 0.        , 0.        , 0.        ,\n",
       "        0.        , 0.        , 0.        , 0.        , 0.        ,\n",
       "        0.        , 0.        , 0.        , 0.        , 0.        ,\n",
       "        0.        , 0.        , 0.        , 0.        , 0.        ,\n",
       "        0.        , 0.        , 0.        ],\n",
       "       [0.        , 0.        , 0.        , 0.        , 0.        ,\n",
       "        0.        , 0.        , 0.        , 0.        , 0.        ,\n",
       "        0.        , 0.        , 0.        , 0.        , 0.        ,\n",
       "        0.        , 0.        , 0.        , 0.        , 0.        ,\n",
       "        0.        , 0.        , 0.        , 0.        , 0.        ,\n",
       "        0.        , 0.        , 0.        ],\n",
       "       [0.        , 0.        , 0.        , 0.        , 0.        ,\n",
       "        0.        , 0.        , 0.        , 0.        , 0.        ,\n",
       "        0.        , 0.        , 0.        , 0.        , 0.        ,\n",
       "        0.        , 0.        , 0.        , 0.        , 0.        ,\n",
       "        0.        , 0.        , 0.        , 0.        , 0.        ,\n",
       "        0.        , 0.        , 0.        ],\n",
       "       [0.        , 0.        , 0.        , 0.        , 0.        ,\n",
       "        0.        , 0.        , 0.        , 0.        , 0.        ,\n",
       "        0.        , 0.        , 0.        , 0.        , 0.        ,\n",
       "        0.        , 0.        , 0.        , 0.        , 0.        ,\n",
       "        0.        , 0.        , 0.        , 0.        , 0.        ,\n",
       "        0.        , 0.        , 0.        ],\n",
       "       [0.        , 0.        , 0.        , 0.        , 0.        ,\n",
       "        0.        , 0.        , 0.        , 0.        , 0.        ,\n",
       "        0.        , 0.        , 0.        , 0.12156864, 0.5176471 ,\n",
       "        0.9960785 , 0.9921569 , 0.9960785 , 0.8352942 , 0.32156864,\n",
       "        0.        , 0.        , 0.        , 0.        , 0.        ,\n",
       "        0.        , 0.        , 0.        ],\n",
       "       [0.        , 0.        , 0.        , 0.        , 0.        ,\n",
       "        0.        , 0.        , 0.        , 0.        , 0.        ,\n",
       "        0.        , 0.08235294, 0.5568628 , 0.91372555, 0.98823535,\n",
       "        0.9921569 , 0.98823535, 0.9921569 , 0.98823535, 0.8745099 ,\n",
       "        0.07843138, 0.        , 0.        , 0.        , 0.        ,\n",
       "        0.        , 0.        , 0.        ],\n",
       "       [0.        , 0.        , 0.        , 0.        , 0.        ,\n",
       "        0.        , 0.        , 0.        , 0.        , 0.        ,\n",
       "        0.48235297, 0.9960785 , 0.9921569 , 0.9960785 , 0.9921569 ,\n",
       "        0.87843144, 0.7960785 , 0.7960785 , 0.8745099 , 1.        ,\n",
       "        0.8352942 , 0.        , 0.        , 0.        , 0.        ,\n",
       "        0.        , 0.        , 0.        ],\n",
       "       [0.        , 0.        , 0.        , 0.        , 0.        ,\n",
       "        0.        , 0.        , 0.        , 0.        , 0.        ,\n",
       "        0.7960785 , 0.9921569 , 0.98823535, 0.9921569 , 0.8313726 ,\n",
       "        0.07843138, 0.        , 0.        , 0.2392157 , 0.9921569 ,\n",
       "        0.98823535, 0.        , 0.        , 0.        , 0.        ,\n",
       "        0.        , 0.        , 0.        ],\n",
       "       [0.        , 0.        , 0.        , 0.        , 0.        ,\n",
       "        0.        , 0.        , 0.        , 0.        , 0.16078432,\n",
       "        0.95294124, 0.87843144, 0.7960785 , 0.7176471 , 0.16078432,\n",
       "        0.59607846, 0.11764707, 0.        , 0.        , 1.        ,\n",
       "        0.9921569 , 0.40000004, 0.        , 0.        , 0.        ,\n",
       "        0.        , 0.        , 0.        ],\n",
       "       [0.        , 0.        , 0.        , 0.        , 0.        ,\n",
       "        0.        , 0.        , 0.        , 0.        , 0.        ,\n",
       "        0.15686275, 0.07843138, 0.        , 0.        , 0.40000004,\n",
       "        0.9921569 , 0.19607845, 0.        , 0.32156864, 0.9921569 ,\n",
       "        0.98823535, 0.07843138, 0.        , 0.        , 0.        ,\n",
       "        0.        , 0.        , 0.        ],\n",
       "       [0.        , 0.        , 0.        , 0.        , 0.        ,\n",
       "        0.        , 0.        , 0.        , 0.        , 0.        ,\n",
       "        0.        , 0.        , 0.        , 0.        , 0.32156864,\n",
       "        0.83921576, 0.12156864, 0.4431373 , 0.91372555, 0.9960785 ,\n",
       "        0.91372555, 0.        , 0.        , 0.        , 0.        ,\n",
       "        0.        , 0.        , 0.        ],\n",
       "       [0.        , 0.        , 0.        , 0.        , 0.        ,\n",
       "        0.        , 0.        , 0.        , 0.        , 0.        ,\n",
       "        0.        , 0.24313727, 0.40000004, 0.32156864, 0.16078432,\n",
       "        0.9921569 , 0.909804  , 0.9921569 , 0.98823535, 0.91372555,\n",
       "        0.19607845, 0.        , 0.        , 0.        , 0.        ,\n",
       "        0.        , 0.        , 0.        ],\n",
       "       [0.        , 0.        , 0.        , 0.        , 0.        ,\n",
       "        0.        , 0.        , 0.        , 0.        , 0.        ,\n",
       "        0.        , 0.59607846, 0.9921569 , 0.9960785 , 0.9921569 ,\n",
       "        0.9960785 , 0.9921569 , 0.9960785 , 0.91372555, 0.48235297,\n",
       "        0.        , 0.        , 0.        , 0.        , 0.        ,\n",
       "        0.        , 0.        , 0.        ],\n",
       "       [0.        , 0.        , 0.        , 0.        , 0.        ,\n",
       "        0.        , 0.        , 0.        , 0.        , 0.        ,\n",
       "        0.        , 0.59607846, 0.98823535, 0.9921569 , 0.98823535,\n",
       "        0.9921569 , 0.98823535, 0.75294125, 0.19607845, 0.        ,\n",
       "        0.        , 0.        , 0.        , 0.        , 0.        ,\n",
       "        0.        , 0.        , 0.        ],\n",
       "       [0.        , 0.        , 0.        , 0.        , 0.        ,\n",
       "        0.        , 0.        , 0.        , 0.        , 0.        ,\n",
       "        0.        , 0.24313727, 0.7176471 , 0.7960785 , 0.95294124,\n",
       "        0.9960785 , 0.9921569 , 0.24313727, 0.        , 0.        ,\n",
       "        0.        , 0.        , 0.        , 0.        , 0.        ,\n",
       "        0.        , 0.        , 0.        ],\n",
       "       [0.        , 0.        , 0.        , 0.        , 0.        ,\n",
       "        0.        , 0.        , 0.        , 0.        , 0.        ,\n",
       "        0.        , 0.        , 0.        , 0.        , 0.15686275,\n",
       "        0.6745098 , 0.98823535, 0.7960785 , 0.07843138, 0.        ,\n",
       "        0.        , 0.        , 0.        , 0.        , 0.        ,\n",
       "        0.        , 0.        , 0.        ],\n",
       "       [0.        , 0.        , 0.        , 0.        , 0.        ,\n",
       "        0.        , 0.08235294, 0.        , 0.        , 0.        ,\n",
       "        0.        , 0.        , 0.        , 0.        , 0.        ,\n",
       "        0.        , 0.7176471 , 0.9960785 , 0.43921572, 0.        ,\n",
       "        0.        , 0.        , 0.        , 0.        , 0.        ,\n",
       "        0.        , 0.        , 0.        ],\n",
       "       [0.        , 0.        , 0.        , 0.        , 0.        ,\n",
       "        0.24313727, 0.7960785 , 0.6392157 , 0.        , 0.        ,\n",
       "        0.        , 0.        , 0.        , 0.        , 0.        ,\n",
       "        0.        , 0.2392157 , 0.9921569 , 0.5921569 , 0.        ,\n",
       "        0.        , 0.        , 0.        , 0.        , 0.        ,\n",
       "        0.        , 0.        , 0.        ],\n",
       "       [0.        , 0.        , 0.        , 0.        , 0.08235294,\n",
       "        0.83921576, 0.75294125, 0.        , 0.        , 0.        ,\n",
       "        0.        , 0.        , 0.        , 0.        , 0.        ,\n",
       "        0.04313726, 0.8352942 , 0.9960785 , 0.5921569 , 0.        ,\n",
       "        0.        , 0.        , 0.        , 0.        , 0.        ,\n",
       "        0.        , 0.        , 0.        ],\n",
       "       [0.        , 0.        , 0.        , 0.        , 0.40000004,\n",
       "        0.9921569 , 0.5921569 , 0.        , 0.        , 0.        ,\n",
       "        0.        , 0.        , 0.        , 0.        , 0.16078432,\n",
       "        0.8352942 , 0.98823535, 0.9921569 , 0.43529415, 0.        ,\n",
       "        0.        , 0.        , 0.        , 0.        , 0.        ,\n",
       "        0.        , 0.        , 0.        ],\n",
       "       [0.        , 0.        , 0.        , 0.        , 0.16078432,\n",
       "        1.        , 0.8352942 , 0.36078432, 0.20000002, 0.        ,\n",
       "        0.        , 0.12156864, 0.36078432, 0.6784314 , 0.9921569 ,\n",
       "        0.9960785 , 0.9921569 , 0.5568628 , 0.        , 0.        ,\n",
       "        0.        , 0.        , 0.        , 0.        , 0.        ,\n",
       "        0.        , 0.        , 0.        ],\n",
       "       [0.        , 0.        , 0.        , 0.        , 0.        ,\n",
       "        0.6745098 , 0.98823535, 0.9921569 , 0.98823535, 0.7960785 ,\n",
       "        0.7960785 , 0.91372555, 0.98823535, 0.9921569 , 0.98823535,\n",
       "        0.9921569 , 0.50980395, 0.07843138, 0.        , 0.        ,\n",
       "        0.        , 0.        , 0.        , 0.        , 0.        ,\n",
       "        0.        , 0.        , 0.        ],\n",
       "       [0.        , 0.        , 0.        , 0.        , 0.        ,\n",
       "        0.08235294, 0.7960785 , 1.        , 0.9921569 , 0.9960785 ,\n",
       "        0.9921569 , 0.9960785 , 0.9921569 , 0.9568628 , 0.7960785 ,\n",
       "        0.32156864, 0.        , 0.        , 0.        , 0.        ,\n",
       "        0.        , 0.        , 0.        , 0.        , 0.        ,\n",
       "        0.        , 0.        , 0.        ],\n",
       "       [0.        , 0.        , 0.        , 0.        , 0.        ,\n",
       "        0.        , 0.07843138, 0.5921569 , 0.5921569 , 0.9921569 ,\n",
       "        0.67058825, 0.5921569 , 0.5921569 , 0.15686275, 0.        ,\n",
       "        0.        , 0.        , 0.        , 0.        , 0.        ,\n",
       "        0.        , 0.        , 0.        , 0.        , 0.        ,\n",
       "        0.        , 0.        , 0.        ],\n",
       "       [0.        , 0.        , 0.        , 0.        , 0.        ,\n",
       "        0.        , 0.        , 0.        , 0.        , 0.        ,\n",
       "        0.        , 0.        , 0.        , 0.        , 0.        ,\n",
       "        0.        , 0.        , 0.        , 0.        , 0.        ,\n",
       "        0.        , 0.        , 0.        , 0.        , 0.        ,\n",
       "        0.        , 0.        , 0.        ],\n",
       "       [0.        , 0.        , 0.        , 0.        , 0.        ,\n",
       "        0.        , 0.        , 0.        , 0.        , 0.        ,\n",
       "        0.        , 0.        , 0.        , 0.        , 0.        ,\n",
       "        0.        , 0.        , 0.        , 0.        , 0.        ,\n",
       "        0.        , 0.        , 0.        , 0.        , 0.        ,\n",
       "        0.        , 0.        , 0.        ],\n",
       "       [0.        , 0.        , 0.        , 0.        , 0.        ,\n",
       "        0.        , 0.        , 0.        , 0.        , 0.        ,\n",
       "        0.        , 0.        , 0.        , 0.        , 0.        ,\n",
       "        0.        , 0.        , 0.        , 0.        , 0.        ,\n",
       "        0.        , 0.        , 0.        , 0.        , 0.        ,\n",
       "        0.        , 0.        , 0.        ]], dtype=float32)"
      ]
     },
     "execution_count": 55,
     "metadata": {},
     "output_type": "execute_result"
    }
   ],
   "source": [
    "# need to convert this data to a 28 x 28 dataset\n",
    "\n",
    "mnist.train.images[1].reshape(28, 28)"
   ]
  },
  {
   "cell_type": "code",
   "execution_count": 57,
   "metadata": {},
   "outputs": [
    {
     "data": {
      "text/plain": [
       "<matplotlib.image.AxesImage at 0x214602b3da0>"
      ]
     },
     "execution_count": 57,
     "metadata": {},
     "output_type": "execute_result"
    },
    {
     "data": {
      "image/png": "[encoded data removed]",
      "text/plain": [
       "<Figure size 432x288 with 1 Axes>"
      ]
     },
     "metadata": {},
     "output_type": "display_data"
    }
   ],
   "source": [
    "# visualize\n",
    "\n",
    "plt.imshow(mnist.train.images[1].reshape(28, 28), cmap = 'gist_gray')"
   ]
  },
  {
   "cell_type": "code",
   "execution_count": 58,
   "metadata": {},
   "outputs": [
    {
     "data": {
      "text/plain": [
       "<matplotlib.image.AxesImage at 0x214603135c0>"
      ]
     },
     "execution_count": 58,
     "metadata": {},
     "output_type": "execute_result"
    },
    {
     "data": {
      "image/png": "[encoded data removed]",
      "text/plain": [
       "<Figure size 432x288 with 1 Axes>"
      ]
     },
     "metadata": {},
     "output_type": "display_data"
    }
   ],
   "source": [
    "# we are going to use a version similar to the original form for the model\n",
    "\n",
    "plt.imshow(mnist.train.images[1].reshape(784, 1)) # can't really visualize because all values are along 1 vector"
   ]
  },
  {
   "cell_type": "code",
   "execution_count": 59,
   "metadata": {},
   "outputs": [
    {
     "data": {
      "text/plain": [
       "<matplotlib.image.AxesImage at 0x21460363c50>"
      ]
     },
     "execution_count": 59,
     "metadata": {},
     "output_type": "execute_result"
    },
    {
     "data": {
      "image/png": "[encoded data removed]",
      "text/plain": [
       "<Figure size 432x288 with 1 Axes>"
      ]
     },
     "metadata": {},
     "output_type": "display_data"
    }
   ],
   "source": [
    "plt.imshow(mnist.train.images[1].reshape(784, 1), aspect=0.02) # better now"
   ]
  },
  {
   "cell_type": "code",
   "execution_count": 60,
   "metadata": {},
   "outputs": [],
   "source": [
    "# modeling data\n",
    "\n",
    "# first argument takes in data type expected for training data\n",
    "\n",
    "# shape argument takes in batch sizes - we put None because we don't know batch size yet\n",
    "\n",
    "x = tf.placeholder(tf.float32, shape = [None, 784])"
   ]
  },
  {
   "cell_type": "code",
   "execution_count": 61,
   "metadata": {},
   "outputs": [],
   "source": [
    "# finding weights\n",
    "\n",
    "# shape for variable is 784 x 10 because there are 784 predictors and 10 different possible answers\n",
    "\n",
    "W = tf.Variable(tf.zeros([784, 10]))"
   ]
  },
  {
   "cell_type": "code",
   "execution_count": 62,
   "metadata": {},
   "outputs": [],
   "source": [
    "# biases\n",
    "\n",
    "b = tf.Variable(tf.zeros([10]))"
   ]
  },
  {
   "cell_type": "code",
   "execution_count": 63,
   "metadata": {},
   "outputs": [],
   "source": [
    "# note how second shape of x and first shape of W match, as well as second shape in weights and bias shape"
   ]
  },
  {
   "cell_type": "code",
   "execution_count": 64,
   "metadata": {},
   "outputs": [],
   "source": [
    "# create graph\n",
    "\n",
    "# this follows deep learning equation video - matrix multiply x (model) and W (weights) and add bias\n",
    "\n",
    "y = tf.matmul(x, W) + b"
   ]
  },
  {
   "cell_type": "code",
   "execution_count": 65,
   "metadata": {},
   "outputs": [],
   "source": [
    "# create loss and optimizer\n",
    "\n",
    "# y_true is where we will pass in correct labels and compare against predictions\n",
    "\n",
    "# note that shape [None, 10] directly relates to one hot encoding and 10 possible answers\n",
    "\n",
    "y_true = tf.placeholder(tf.float32, shape = [None, 10])"
   ]
  },
  {
   "cell_type": "code",
   "execution_count": 66,
   "metadata": {},
   "outputs": [],
   "source": [
    "# cross entropy\n",
    "\n",
    "# cross entropy will take care of the mathematics of running the gradient descent optimizer and minimizing error\n",
    "\n",
    "# labels are the actual answer, logits are our predictions\n",
    "\n",
    "cross_entropy = tf.reduce_mean(tf.nn.softmax_cross_entropy_with_logits_v2(labels = y_true, logits = y))"
   ]
  },
  {
   "cell_type": "code",
   "execution_count": 67,
   "metadata": {},
   "outputs": [],
   "source": [
    "# create optimizer for training model\n",
    "\n",
    "# this is where we can adjust the learning rate - starting with 0.5\n",
    "\n",
    "# higher rate = faster learning but generally worse results - no way to know off the bat which rate is best\n",
    "\n",
    "optimizer = tf.train.GradientDescentOptimizer(learning_rate = 0.5)"
   ]
  },
  {
   "cell_type": "code",
   "execution_count": 68,
   "metadata": {},
   "outputs": [],
   "source": [
    "# train model\n",
    "\n",
    "# the optimizer is the method for how you are trying to reduce error, and cross entropy is used to define error\n",
    "\n",
    "# essentially saying grab this optimizer and minimize this particular error\n",
    "\n",
    "train = optimizer.minimize(cross_entropy)"
   ]
  },
  {
   "cell_type": "code",
   "execution_count": 69,
   "metadata": {},
   "outputs": [],
   "source": [
    "# initiate session\n",
    "\n",
    "init = tf.global_variables_initializer()"
   ]
  },
  {
   "cell_type": "code",
   "execution_count": 72,
   "metadata": {},
   "outputs": [
    {
     "name": "stdout",
     "output_type": "stream",
     "text": [
      "0.9161\n"
     ]
    }
   ],
   "source": [
    "with tf.Session() as sess:\n",
    "\n",
    "    sess.run(init)\n",
    "    \n",
    "    for step in range(1000):\n",
    "        \n",
    "        batch_x, batch_y = mnist.train.next_batch(100) # grab batches of 100 and unpack their x and y values\n",
    "        \n",
    "        sess.run(train, feed_dict = {x:batch_x, y_true:batch_y}) # note that x and y_true correspond to placeholders\n",
    "        \n",
    "    matches = tf.equal(tf.argmax(y, 1), tf.argmax(y_true, 1)) # where do predictions = labels\n",
    "    \n",
    "    acc = tf.reduce_mean(tf.cast(matches, tf.float32)) # accuracy calculation\n",
    "    \n",
    "    print(sess.run(acc, feed_dict = {x:mnist.test.images, y_true:mnist.test.labels}))"
   ]
  },
  {
   "cell_type": "code",
   "execution_count": 74,
   "metadata": {},
   "outputs": [],
   "source": [
    "# this was a complicated way to develop a model that goes through each step\n",
    "\n",
    "# next we will explore estimators that automate much of this process"
   ]
  },
  {
   "cell_type": "markdown",
   "metadata": {},
   "source": [
    "#### Estimators can quickly create models without needing to manually define a graph\n",
    "\n",
    "Estimator steps:\n",
    "\n",
    "1. read in data and normalize if necessary\n",
    "\n",
    "2. train / test split the data\n",
    "\n",
    "3. create estimator feature columns\n",
    "\n",
    "4. create input estimator function\n",
    "\n",
    "5. train estimator model\n",
    "\n",
    "6. predict with new test input function"
   ]
  },
  {
   "cell_type": "code",
   "execution_count": 75,
   "metadata": {},
   "outputs": [],
   "source": [
    "import pandas as pd"
   ]
  },
  {
   "cell_type": "code",
   "execution_count": 76,
   "metadata": {},
   "outputs": [],
   "source": [
    "df = pd.read_csv('iris.csv')"
   ]
  },
  {
   "cell_type": "code",
   "execution_count": 77,
   "metadata": {},
   "outputs": [
    {
     "data": {
      "text/html": [
       "<div>\n",
       "<style scoped>\n",
       "    .dataframe tbody tr th:only-of-type {\n",
       "        vertical-align: middle;\n",
       "    }\n",
       "\n",
       "    .dataframe tbody tr th {\n",
       "        vertical-align: top;\n",
       "    }\n",
       "\n",
       "    .dataframe thead th {\n",
       "        text-align: right;\n",
       "    }\n",
       "</style>\n",
       "<table border=\"1\" class=\"dataframe\">\n",
       "  <thead>\n",
       "    <tr style=\"text-align: right;\">\n",
       "      <th></th>\n",
       "      <th>sepal length (cm)</th>\n",
       "      <th>sepal width (cm)</th>\n",
       "      <th>petal length (cm)</th>\n",
       "      <th>petal width (cm)</th>\n",
       "      <th>target</th>\n",
       "    </tr>\n",
       "  </thead>\n",
       "  <tbody>\n",
       "    <tr>\n",
       "      <th>0</th>\n",
       "      <td>5.1</td>\n",
       "      <td>3.5</td>\n",
       "      <td>1.4</td>\n",
       "      <td>0.2</td>\n",
       "      <td>0.0</td>\n",
       "    </tr>\n",
       "    <tr>\n",
       "      <th>1</th>\n",
       "      <td>4.9</td>\n",
       "      <td>3.0</td>\n",
       "      <td>1.4</td>\n",
       "      <td>0.2</td>\n",
       "      <td>0.0</td>\n",
       "    </tr>\n",
       "    <tr>\n",
       "      <th>2</th>\n",
       "      <td>4.7</td>\n",
       "      <td>3.2</td>\n",
       "      <td>1.3</td>\n",
       "      <td>0.2</td>\n",
       "      <td>0.0</td>\n",
       "    </tr>\n",
       "    <tr>\n",
       "      <th>3</th>\n",
       "      <td>4.6</td>\n",
       "      <td>3.1</td>\n",
       "      <td>1.5</td>\n",
       "      <td>0.2</td>\n",
       "      <td>0.0</td>\n",
       "    </tr>\n",
       "    <tr>\n",
       "      <th>4</th>\n",
       "      <td>5.0</td>\n",
       "      <td>3.6</td>\n",
       "      <td>1.4</td>\n",
       "      <td>0.2</td>\n",
       "      <td>0.0</td>\n",
       "    </tr>\n",
       "  </tbody>\n",
       "</table>\n",
       "</div>"
      ],
      "text/plain": [
       "   sepal length (cm)  sepal width (cm)  petal length (cm)  petal width (cm)  \\\n",
       "0                5.1               3.5                1.4               0.2   \n",
       "1                4.9               3.0                1.4               0.2   \n",
       "2                4.7               3.2                1.3               0.2   \n",
       "3                4.6               3.1                1.5               0.2   \n",
       "4                5.0               3.6                1.4               0.2   \n",
       "\n",
       "   target  \n",
       "0     0.0  \n",
       "1     0.0  \n",
       "2     0.0  \n",
       "3     0.0  \n",
       "4     0.0  "
      ]
     },
     "execution_count": 77,
     "metadata": {},
     "output_type": "execute_result"
    }
   ],
   "source": [
    "df.head()"
   ]
  },
  {
   "cell_type": "code",
   "execution_count": 78,
   "metadata": {},
   "outputs": [],
   "source": [
    "# column names cannot have any spaces or special characters \n",
    "\n",
    "# also target column needs to be an integer\n",
    "\n",
    "df.columns = ['sepal_length', 'sepal_width', 'petal_length', 'petal_width', 'target']"
   ]
  },
  {
   "cell_type": "code",
   "execution_count": 79,
   "metadata": {},
   "outputs": [
    {
     "data": {
      "text/html": [
       "<div>\n",
       "<style scoped>\n",
       "    .dataframe tbody tr th:only-of-type {\n",
       "        vertical-align: middle;\n",
       "    }\n",
       "\n",
       "    .dataframe tbody tr th {\n",
       "        vertical-align: top;\n",
       "    }\n",
       "\n",
       "    .dataframe thead th {\n",
       "        text-align: right;\n",
       "    }\n",
       "</style>\n",
       "<table border=\"1\" class=\"dataframe\">\n",
       "  <thead>\n",
       "    <tr style=\"text-align: right;\">\n",
       "      <th></th>\n",
       "      <th>sepal_length</th>\n",
       "      <th>sepal_width</th>\n",
       "      <th>petal_length</th>\n",
       "      <th>petal_width</th>\n",
       "      <th>target</th>\n",
       "    </tr>\n",
       "  </thead>\n",
       "  <tbody>\n",
       "    <tr>\n",
       "      <th>0</th>\n",
       "      <td>5.1</td>\n",
       "      <td>3.5</td>\n",
       "      <td>1.4</td>\n",
       "      <td>0.2</td>\n",
       "      <td>0.0</td>\n",
       "    </tr>\n",
       "    <tr>\n",
       "      <th>1</th>\n",
       "      <td>4.9</td>\n",
       "      <td>3.0</td>\n",
       "      <td>1.4</td>\n",
       "      <td>0.2</td>\n",
       "      <td>0.0</td>\n",
       "    </tr>\n",
       "    <tr>\n",
       "      <th>2</th>\n",
       "      <td>4.7</td>\n",
       "      <td>3.2</td>\n",
       "      <td>1.3</td>\n",
       "      <td>0.2</td>\n",
       "      <td>0.0</td>\n",
       "    </tr>\n",
       "    <tr>\n",
       "      <th>3</th>\n",
       "      <td>4.6</td>\n",
       "      <td>3.1</td>\n",
       "      <td>1.5</td>\n",
       "      <td>0.2</td>\n",
       "      <td>0.0</td>\n",
       "    </tr>\n",
       "    <tr>\n",
       "      <th>4</th>\n",
       "      <td>5.0</td>\n",
       "      <td>3.6</td>\n",
       "      <td>1.4</td>\n",
       "      <td>0.2</td>\n",
       "      <td>0.0</td>\n",
       "    </tr>\n",
       "  </tbody>\n",
       "</table>\n",
       "</div>"
      ],
      "text/plain": [
       "   sepal_length  sepal_width  petal_length  petal_width  target\n",
       "0           5.1          3.5           1.4          0.2     0.0\n",
       "1           4.9          3.0           1.4          0.2     0.0\n",
       "2           4.7          3.2           1.3          0.2     0.0\n",
       "3           4.6          3.1           1.5          0.2     0.0\n",
       "4           5.0          3.6           1.4          0.2     0.0"
      ]
     },
     "execution_count": 79,
     "metadata": {},
     "output_type": "execute_result"
    }
   ],
   "source": [
    "df.head()"
   ]
  },
  {
   "cell_type": "code",
   "execution_count": 80,
   "metadata": {},
   "outputs": [],
   "source": [
    "df['target'] = df['target'].apply(int)"
   ]
  },
  {
   "cell_type": "code",
   "execution_count": 81,
   "metadata": {},
   "outputs": [
    {
     "data": {
      "text/html": [
       "<div>\n",
       "<style scoped>\n",
       "    .dataframe tbody tr th:only-of-type {\n",
       "        vertical-align: middle;\n",
       "    }\n",
       "\n",
       "    .dataframe tbody tr th {\n",
       "        vertical-align: top;\n",
       "    }\n",
       "\n",
       "    .dataframe thead th {\n",
       "        text-align: right;\n",
       "    }\n",
       "</style>\n",
       "<table border=\"1\" class=\"dataframe\">\n",
       "  <thead>\n",
       "    <tr style=\"text-align: right;\">\n",
       "      <th></th>\n",
       "      <th>sepal_length</th>\n",
       "      <th>sepal_width</th>\n",
       "      <th>petal_length</th>\n",
       "      <th>petal_width</th>\n",
       "      <th>target</th>\n",
       "    </tr>\n",
       "  </thead>\n",
       "  <tbody>\n",
       "    <tr>\n",
       "      <th>0</th>\n",
       "      <td>5.1</td>\n",
       "      <td>3.5</td>\n",
       "      <td>1.4</td>\n",
       "      <td>0.2</td>\n",
       "      <td>0</td>\n",
       "    </tr>\n",
       "    <tr>\n",
       "      <th>1</th>\n",
       "      <td>4.9</td>\n",
       "      <td>3.0</td>\n",
       "      <td>1.4</td>\n",
       "      <td>0.2</td>\n",
       "      <td>0</td>\n",
       "    </tr>\n",
       "    <tr>\n",
       "      <th>2</th>\n",
       "      <td>4.7</td>\n",
       "      <td>3.2</td>\n",
       "      <td>1.3</td>\n",
       "      <td>0.2</td>\n",
       "      <td>0</td>\n",
       "    </tr>\n",
       "    <tr>\n",
       "      <th>3</th>\n",
       "      <td>4.6</td>\n",
       "      <td>3.1</td>\n",
       "      <td>1.5</td>\n",
       "      <td>0.2</td>\n",
       "      <td>0</td>\n",
       "    </tr>\n",
       "    <tr>\n",
       "      <th>4</th>\n",
       "      <td>5.0</td>\n",
       "      <td>3.6</td>\n",
       "      <td>1.4</td>\n",
       "      <td>0.2</td>\n",
       "      <td>0</td>\n",
       "    </tr>\n",
       "  </tbody>\n",
       "</table>\n",
       "</div>"
      ],
      "text/plain": [
       "   sepal_length  sepal_width  petal_length  petal_width  target\n",
       "0           5.1          3.5           1.4          0.2       0\n",
       "1           4.9          3.0           1.4          0.2       0\n",
       "2           4.7          3.2           1.3          0.2       0\n",
       "3           4.6          3.1           1.5          0.2       0\n",
       "4           5.0          3.6           1.4          0.2       0"
      ]
     },
     "execution_count": 81,
     "metadata": {},
     "output_type": "execute_result"
    }
   ],
   "source": [
    "df.head()"
   ]
  },
  {
   "cell_type": "code",
   "execution_count": 82,
   "metadata": {},
   "outputs": [],
   "source": [
    "# train test split\n",
    "\n",
    "X = df.drop('target', axis = 1)\n",
    "y = df['target']"
   ]
  },
  {
   "cell_type": "code",
   "execution_count": 83,
   "metadata": {},
   "outputs": [],
   "source": [
    "from sklearn.cross_validation import train_test_split"
   ]
  },
  {
   "cell_type": "code",
   "execution_count": 84,
   "metadata": {},
   "outputs": [],
   "source": [
    "X_train, X_test, y_train, y_test = train_test_split(X, y, test_size=0.3, random_state=42)"
   ]
  },
  {
   "cell_type": "code",
   "execution_count": 85,
   "metadata": {},
   "outputs": [],
   "source": [
    "# create feature columns\n",
    "\n",
    "# we use feature_column.numeric_column but there are also other ways to do categorical columns\n",
    "\n",
    "feat_cols = []\n",
    "\n",
    "for col in X.columns:\n",
    "    feat_cols.append(tf.feature_column.numeric_column(col))"
   ]
  },
  {
   "cell_type": "code",
   "execution_count": 86,
   "metadata": {},
   "outputs": [
    {
     "data": {
      "text/plain": [
       "[_NumericColumn(key='sepal_length', shape=(1,), default_value=None, dtype=tf.float32, normalizer_fn=None),\n",
       " _NumericColumn(key='sepal_width', shape=(1,), default_value=None, dtype=tf.float32, normalizer_fn=None),\n",
       " _NumericColumn(key='petal_length', shape=(1,), default_value=None, dtype=tf.float32, normalizer_fn=None),\n",
       " _NumericColumn(key='petal_width', shape=(1,), default_value=None, dtype=tf.float32, normalizer_fn=None)]"
      ]
     },
     "execution_count": 86,
     "metadata": {},
     "output_type": "execute_result"
    }
   ],
   "source": [
    "feat_cols"
   ]
  },
  {
   "cell_type": "code",
   "execution_count": 104,
   "metadata": {},
   "outputs": [],
   "source": [
    "# create input function with training data\n",
    "\n",
    "# can play around with batch size number - don't want to make it too big or it can crash session\n",
    "# make smaller when lots of predictions come back as None\n",
    "\n",
    "# num epochs signifies when you have gone through all your training data - in this case 5 times through\n",
    "\n",
    "in_func = tf.estimator.inputs.pandas_input_fn(x = X_train , y = y_train, batch_size = 10, num_epochs=5, shuffle = True)"
   ]
  },
  {
   "cell_type": "code",
   "execution_count": 137,
   "metadata": {},
   "outputs": [
    {
     "name": "stdout",
     "output_type": "stream",
     "text": [
      "INFO:tensorflow:Using default config.\n",
      "WARNING:tensorflow:Using temporary folder as model directory: C:\\Users\\casey\\AppData\\Local\\Temp\\tmpul7jyc5n\n",
      "INFO:tensorflow:Using config: {'_model_dir': 'C:\\\\Users\\\\casey\\\\AppData\\\\Local\\\\Temp\\\\tmpul7jyc5n', '_tf_random_seed': None, '_save_summary_steps': 100, '_save_checkpoints_steps': None, '_save_checkpoints_secs': 600, '_session_config': None, '_keep_checkpoint_max': 5, '_keep_checkpoint_every_n_hours': 10000, '_log_step_count_steps': 100, '_train_distribute': None, '_device_fn': None, '_service': None, '_cluster_spec': <tensorflow.python.training.server_lib.ClusterSpec object at 0x000002140AEEE518>, '_task_type': 'worker', '_task_id': 0, '_global_id_in_cluster': 0, '_master': '', '_evaluation_master': '', '_is_chief': True, '_num_ps_replicas': 0, '_num_worker_replicas': 1}\n"
     ]
    }
   ],
   "source": [
    "# now we create the actual estimator with Deep Neural Net classifier (DNNClassifier)\n",
    "\n",
    "# hidden_units passes in a list of layers with number of neurons in each layer\n",
    "\n",
    "# n_classes = 3 means there are 3 possible answers (one for each flower type)\n",
    "\n",
    "# for feature_columns we pass in the object we previously created (feat_cols)\n",
    "\n",
    "classifier = tf.estimator.DNNClassifier(hidden_units=[10, 20, 10], n_classes = 3, feature_columns=feat_cols)"
   ]
  },
  {
   "cell_type": "code",
   "execution_count": 138,
   "metadata": {},
   "outputs": [
    {
     "name": "stdout",
     "output_type": "stream",
     "text": [
      "INFO:tensorflow:Calling model_fn.\n",
      "INFO:tensorflow:Done calling model_fn.\n",
      "INFO:tensorflow:Create CheckpointSaverHook.\n",
      "INFO:tensorflow:Graph was finalized.\n",
      "INFO:tensorflow:Running local_init_op.\n",
      "INFO:tensorflow:Done running local_init_op.\n",
      "INFO:tensorflow:Saving checkpoints for 0 into C:\\Users\\casey\\AppData\\Local\\Temp\\tmpul7jyc5n\\model.ckpt.\n",
      "INFO:tensorflow:loss = 10.564732, step = 1\n",
      "INFO:tensorflow:Saving checkpoints for 50 into C:\\Users\\casey\\AppData\\Local\\Temp\\tmpul7jyc5n\\model.ckpt.\n",
      "INFO:tensorflow:Loss for final step: 1.9494247.\n"
     ]
    },
    {
     "data": {
      "text/plain": [
       "<tensorflow.python.estimator.canned.dnn.DNNClassifier at 0x2140aeee908>"
      ]
     },
     "execution_count": 138,
     "metadata": {},
     "output_type": "execute_result"
    }
   ],
   "source": [
    "# train the classifier\n",
    "\n",
    "# pass in the input function previously created\n",
    "\n",
    "# can play around with steps number\n",
    "\n",
    "classifier.train(input_fn = in_func, steps = 50)"
   ]
  },
  {
   "cell_type": "code",
   "execution_count": 139,
   "metadata": {},
   "outputs": [],
   "source": [
    "# predict values\n",
    "\n",
    "pred_func = tf.estimator.inputs.pandas_input_fn(x = X_test, batch_size = len(X_test), shuffle = False)"
   ]
  },
  {
   "cell_type": "code",
   "execution_count": 140,
   "metadata": {},
   "outputs": [
    {
     "name": "stdout",
     "output_type": "stream",
     "text": [
      "INFO:tensorflow:Calling model_fn.\n",
      "INFO:tensorflow:Done calling model_fn.\n",
      "INFO:tensorflow:Graph was finalized.\n",
      "INFO:tensorflow:Restoring parameters from C:\\Users\\casey\\AppData\\Local\\Temp\\tmpul7jyc5n\\model.ckpt-50\n",
      "INFO:tensorflow:Running local_init_op.\n",
      "INFO:tensorflow:Done running local_init_op.\n"
     ]
    }
   ],
   "source": [
    "# since classifier.predict is just a generator, you need to wrap it in a list\n",
    "\n",
    "pred = list(classifier.predict(input_fn=pred_func))"
   ]
  },
  {
   "cell_type": "code",
   "execution_count": 141,
   "metadata": {},
   "outputs": [
    {
     "data": {
      "text/plain": [
       "[{'logits': array([-2.8232205 ,  1.3978179 ,  0.05232818], dtype=float32),\n",
       "  'probabilities': array([0.01151552, 0.7842549 , 0.20422953], dtype=float32),\n",
       "  'class_ids': array([1], dtype=int64),\n",
       "  'classes': array([b'1'], dtype=object)},\n",
       " {'logits': array([ 4.908005  , -0.96630925, -2.8493295 ], dtype=float32),\n",
       "  'probabilities': array([9.967721e-01, 2.801648e-03, 4.262145e-04], dtype=float32),\n",
       "  'class_ids': array([0], dtype=int64),\n",
       "  'classes': array([b'0'], dtype=object)},\n",
       " {'logits': array([-7.1788173 ,  0.64154387,  4.178992  ], dtype=float32),\n",
       "  'probabilities': array([1.1347731e-05, 2.8264981e-02, 9.7172374e-01], dtype=float32),\n",
       "  'class_ids': array([2], dtype=int64),\n",
       "  'classes': array([b'2'], dtype=object)},\n",
       " {'logits': array([-2.9803796 ,  1.3510277 ,  0.26658458], dtype=float32),\n",
       "  'probabilities': array([0.00973109, 0.7400615 , 0.2502074 ], dtype=float32),\n",
       "  'class_ids': array([1], dtype=int64),\n",
       "  'classes': array([b'1'], dtype=object)},\n",
       " {'logits': array([-2.8312187 ,  1.530413  , -0.14041978], dtype=float32),\n",
       "  'probabilities': array([0.01062379, 0.83274496, 0.15663129], dtype=float32),\n",
       "  'class_ids': array([1], dtype=int64),\n",
       "  'classes': array([b'1'], dtype=object)},\n",
       " {'logits': array([ 4.4735556, -0.8451877, -2.665033 ], dtype=float32),\n",
       "  'probabilities': array([9.9433953e-01, 4.8711766e-03, 7.8937784e-04], dtype=float32),\n",
       "  'class_ids': array([0], dtype=int64),\n",
       "  'classes': array([b'0'], dtype=object)},\n",
       " {'logits': array([-1.376166 ,  1.3513625, -1.0430901], dtype=float32),\n",
       "  'probabilities': array([0.05652818, 0.86460066, 0.07887112], dtype=float32),\n",
       "  'class_ids': array([1], dtype=int64),\n",
       "  'classes': array([b'1'], dtype=object)},\n",
       " {'logits': array([-4.5244555,  1.1884862,  1.6497571], dtype=float32),\n",
       "  'probabilities': array([0.00127557, 0.3861911 , 0.6125333 ], dtype=float32),\n",
       "  'class_ids': array([2], dtype=int64),\n",
       "  'classes': array([b'2'], dtype=object)},\n",
       " {'logits': array([-3.5094354 ,  1.1397009 ,  0.89267135], dtype=float32),\n",
       "  'probabilities': array([0.00534424, 0.55844474, 0.43621102], dtype=float32),\n",
       "  'class_ids': array([1], dtype=int64),\n",
       "  'classes': array([b'1'], dtype=object)},\n",
       " {'logits': array([-1.7869862 ,  1.4576328 , -0.84960425], dtype=float32),\n",
       "  'probabilities': array([0.03424045, 0.8783338 , 0.08742572], dtype=float32),\n",
       "  'class_ids': array([1], dtype=int64),\n",
       "  'classes': array([b'1'], dtype=object)},\n",
       " {'logits': array([-4.1966453,  1.2112211,  1.3790503], dtype=float32),\n",
       "  'probabilities': array([0.00204881, 0.45720232, 0.54074895], dtype=float32),\n",
       "  'class_ids': array([2], dtype=int64),\n",
       "  'classes': array([b'2'], dtype=object)},\n",
       " {'logits': array([ 4.295603  , -0.84344304, -2.4648263 ], dtype=float32),\n",
       "  'probabilities': array([0.9930269 , 0.0058224 , 0.00115065], dtype=float32),\n",
       "  'class_ids': array([0], dtype=int64),\n",
       "  'classes': array([b'0'], dtype=object)},\n",
       " {'logits': array([ 5.066991 , -1.0622231, -2.8218968], dtype=float32),\n",
       "  'probabilities': array([9.9745327e-01, 2.1727453e-03, 3.7393172e-04], dtype=float32),\n",
       "  'class_ids': array([0], dtype=int64),\n",
       "  'classes': array([b'0'], dtype=object)},\n",
       " {'logits': array([ 4.3104386, -0.8267173, -2.503679 ], dtype=float32),\n",
       "  'probabilities': array([0.9930757 , 0.0058337 , 0.00109056], dtype=float32),\n",
       "  'class_ids': array([0], dtype=int64),\n",
       "  'classes': array([b'0'], dtype=object)},\n",
       " {'logits': array([ 4.72077   , -0.97323555, -2.6844635 ], dtype=float32),\n",
       "  'probabilities': array([9.9604154e-01, 3.3527587e-03, 6.0565519e-04], dtype=float32),\n",
       "  'class_ids': array([0], dtype=int64),\n",
       "  'classes': array([b'0'], dtype=object)},\n",
       " {'logits': array([-2.8734598 ,  1.5064025 , -0.00936632], dtype=float32),\n",
       "  'probabilities': array([0.01016671, 0.8115787 , 0.17825456], dtype=float32),\n",
       "  'class_ids': array([1], dtype=int64),\n",
       "  'classes': array([b'1'], dtype=object)},\n",
       " {'logits': array([-5.847513 ,  0.7734919,  3.1635094], dtype=float32),\n",
       "  'probabilities': array([1.11799374e-04, 8.39276984e-02, 9.15960491e-01], dtype=float32),\n",
       "  'class_ids': array([2], dtype=int64),\n",
       "  'classes': array([b'2'], dtype=object)},\n",
       " {'logits': array([-1.9475503,  1.4333793, -0.6589116], dtype=float32),\n",
       "  'probabilities': array([0.02938935, 0.86399066, 0.10662   ], dtype=float32),\n",
       "  'class_ids': array([1], dtype=int64),\n",
       "  'classes': array([b'1'], dtype=object)},\n",
       " {'logits': array([-2.9507864 ,  1.2852467 ,  0.32748067], dtype=float32),\n",
       "  'probabilities': array([0.01034524, 0.71519804, 0.27445668], dtype=float32),\n",
       "  'class_ids': array([1], dtype=int64),\n",
       "  'classes': array([b'1'], dtype=object)},\n",
       " {'logits': array([-5.77015  ,  0.7300801,  3.1537871], dtype=float32),\n",
       "  'probabilities': array([1.2231084e-04, 8.1372730e-02, 9.1850489e-01], dtype=float32),\n",
       "  'class_ids': array([2], dtype=int64),\n",
       "  'classes': array([b'2'], dtype=object)},\n",
       " {'logits': array([ 3.940762 , -0.6861518, -2.4146874], dtype=float32),\n",
       "  'probabilities': array([0.9886091 , 0.00967345, 0.00171746], dtype=float32),\n",
       "  'class_ids': array([0], dtype=int64),\n",
       "  'classes': array([b'0'], dtype=object)},\n",
       " {'logits': array([-3.992796 ,  1.1468694,  1.3093457], dtype=float32),\n",
       "  'probabilities': array([0.0026851 , 0.45823637, 0.5390786 ], dtype=float32),\n",
       "  'class_ids': array([2], dtype=int64),\n",
       "  'classes': array([b'2'], dtype=object)},\n",
       " {'logits': array([ 4.0242863, -0.6917224, -2.5109482], dtype=float32),\n",
       "  'probabilities': array([0.9897049 , 0.00885868, 0.00143645], dtype=float32),\n",
       "  'class_ids': array([0], dtype=int64),\n",
       "  'classes': array([b'0'], dtype=object)},\n",
       " {'logits': array([-5.6163244 ,  0.77883404,  2.9822295 ], dtype=float32),\n",
       "  'probabilities': array([1.6600963e-04, 9.9429496e-02, 9.0040451e-01], dtype=float32),\n",
       "  'class_ids': array([2], dtype=int64),\n",
       "  'classes': array([b'2'], dtype=object)},\n",
       " {'logits': array([-4.7947383,  1.4651287,  1.4338639], dtype=float32),\n",
       "  'probabilities': array([0.00096975, 0.5073231 , 0.49170712], dtype=float32),\n",
       "  'class_ids': array([1], dtype=int64),\n",
       "  'classes': array([b'1'], dtype=object)},\n",
       " {'logits': array([-4.919283 ,  1.0384035,  2.1456063], dtype=float32),\n",
       "  'probabilities': array([6.419036e-04, 2.482333e-01, 7.511248e-01], dtype=float32),\n",
       "  'class_ids': array([2], dtype=int64),\n",
       "  'classes': array([b'2'], dtype=object)},\n",
       " {'logits': array([-5.49238  ,  0.8114906,  2.7761   ], dtype=float32),\n",
       "  'probabilities': array([2.2488572e-04, 1.2294141e-01, 8.7683368e-01], dtype=float32),\n",
       "  'class_ids': array([2], dtype=int64),\n",
       "  'classes': array([b'2'], dtype=object)},\n",
       " {'logits': array([-5.807034 ,  0.8899951,  2.9998453], dtype=float32),\n",
       "  'probabilities': array([1.3349291e-04, 1.0812868e-01, 8.9173782e-01], dtype=float32),\n",
       "  'class_ids': array([2], dtype=int64),\n",
       "  'classes': array([b'2'], dtype=object)},\n",
       " {'logits': array([ 3.9805496, -0.7171362, -2.4127023], dtype=float32),\n",
       "  'probabilities': array([0.989326  , 0.00901904, 0.00165495], dtype=float32),\n",
       "  'class_ids': array([0], dtype=int64),\n",
       "  'classes': array([b'0'], dtype=object)},\n",
       " {'logits': array([ 3.9306293, -0.6707849, -2.4253137], dtype=float32),\n",
       "  'probabilities': array([0.98836297, 0.00992082, 0.00171619], dtype=float32),\n",
       "  'class_ids': array([0], dtype=int64),\n",
       "  'classes': array([b'0'], dtype=object)},\n",
       " {'logits': array([ 4.6271186 , -0.95146006, -2.6180577 ], dtype=float32),\n",
       "  'probabilities': array([9.9552852e-01, 3.7610391e-03, 7.1041746e-04], dtype=float32),\n",
       "  'class_ids': array([0], dtype=int64),\n",
       "  'classes': array([b'0'], dtype=object)},\n",
       " {'logits': array([ 5.323413 , -1.112818 , -3.0170858], dtype=float32),\n",
       "  'probabilities': array([9.9816233e-01, 1.5994908e-03, 2.3821468e-04], dtype=float32),\n",
       "  'class_ids': array([0], dtype=int64),\n",
       "  'classes': array([b'0'], dtype=object)},\n",
       " {'logits': array([-1.9477681,  1.6139452, -0.9858388], dtype=float32),\n",
       "  'probabilities': array([0.0257465 , 0.9068815 , 0.06737189], dtype=float32),\n",
       "  'class_ids': array([1], dtype=int64),\n",
       "  'classes': array([b'1'], dtype=object)},\n",
       " {'logits': array([ 4.1880145 , -0.77757186, -2.495217  ], dtype=float32),\n",
       "  'probabilities': array([0.99184155, 0.00691697, 0.00124151], dtype=float32),\n",
       "  'class_ids': array([0], dtype=int64),\n",
       "  'classes': array([b'0'], dtype=object)},\n",
       " {'logits': array([ 4.149608  , -0.84056103, -2.3683293 ], dtype=float32),\n",
       "  'probabilities': array([0.9917868 , 0.00674863, 0.00146458], dtype=float32),\n",
       "  'class_ids': array([0], dtype=int64),\n",
       "  'classes': array([b'0'], dtype=object)},\n",
       " {'logits': array([-4.656443  ,  0.93808115,  2.0481725 ], dtype=float32),\n",
       "  'probabilities': array([0.00092071, 0.24762566, 0.75145364], dtype=float32),\n",
       "  'class_ids': array([2], dtype=int64),\n",
       "  'classes': array([b'2'], dtype=object)},\n",
       " {'logits': array([-2.3984234,  1.594867 , -0.5266472], dtype=float32),\n",
       "  'probabilities': array([0.01619882, 0.87851155, 0.10528961], dtype=float32),\n",
       "  'class_ids': array([1], dtype=int64),\n",
       "  'classes': array([b'1'], dtype=object)},\n",
       " {'logits': array([ 4.7230787 , -0.96663254, -2.6726031 ], dtype=float32),\n",
       "  'probabilities': array([9.9602145e-01, 3.3671199e-03, 6.1145547e-04], dtype=float32),\n",
       "  'class_ids': array([0], dtype=int64),\n",
       "  'classes': array([b'0'], dtype=object)},\n",
       " {'logits': array([ 4.7098403, -0.9745268, -2.653351 ], dtype=float32),\n",
       "  'probabilities': array([9.9598336e-01, 3.3850321e-03, 6.3162396e-04], dtype=float32),\n",
       "  'class_ids': array([0], dtype=int64),\n",
       "  'classes': array([b'0'], dtype=object)},\n",
       " {'logits': array([ 5.1199694, -1.0687855, -2.8586922], dtype=float32),\n",
       "  'probabilities': array([9.9761057e-01, 2.0474761e-03, 3.4187894e-04], dtype=float32),\n",
       "  'class_ids': array([0], dtype=int64),\n",
       "  'classes': array([b'0'], dtype=object)},\n",
       " {'logits': array([-4.977096 ,  0.8003367,  2.5041785], dtype=float32),\n",
       "  'probabilities': array([4.7654670e-04, 1.5389079e-01, 8.4563261e-01], dtype=float32),\n",
       "  'class_ids': array([2], dtype=int64),\n",
       "  'classes': array([b'2'], dtype=object)},\n",
       " {'logits': array([-2.656168  ,  1.4982774 , -0.15023318], dtype=float32),\n",
       "  'probabilities': array([0.0129918 , 0.82779354, 0.15921465], dtype=float32),\n",
       "  'class_ids': array([1], dtype=int64),\n",
       "  'classes': array([b'1'], dtype=object)},\n",
       " {'logits': array([-2.6022332,  1.6151172, -0.3952657], dtype=float32),\n",
       "  'probabilities': array([0.01283012, 0.8705683 , 0.11660164], dtype=float32),\n",
       "  'class_ids': array([1], dtype=int64),\n",
       "  'classes': array([b'1'], dtype=object)},\n",
       " {'logits': array([ 4.9900274, -1.0378486, -2.8333967], dtype=float32),\n",
       "  'probabilities': array([9.9719691e-01, 2.4038516e-03, 3.9912682e-04], dtype=float32),\n",
       "  'class_ids': array([0], dtype=int64),\n",
       "  'classes': array([b'0'], dtype=object)},\n",
       " {'logits': array([ 4.992882 , -1.0446148, -2.79096  ], dtype=float32),\n",
       "  'probabilities': array([9.9720395e-01, 2.3808528e-03, 4.1524493e-04], dtype=float32),\n",
       "  'class_ids': array([0], dtype=int64),\n",
       "  'classes': array([b'0'], dtype=object)}]"
      ]
     },
     "execution_count": 141,
     "metadata": {},
     "output_type": "execute_result"
    }
   ],
   "source": [
    "# pred is a list of dictionaries\n",
    "\n",
    "# includes class predictions, probabilities of being in each class, and more\n",
    "\n",
    "pred"
   ]
  },
  {
   "cell_type": "code",
   "execution_count": 142,
   "metadata": {},
   "outputs": [],
   "source": [
    "# create list of predictions\n",
    "\n",
    "final_preds = []\n",
    "\n",
    "for p in pred:\n",
    "    final_preds.append(p['class_ids'][0])"
   ]
  },
  {
   "cell_type": "code",
   "execution_count": 143,
   "metadata": {},
   "outputs": [
    {
     "data": {
      "text/plain": [
       "[1,\n",
       " 0,\n",
       " 2,\n",
       " 1,\n",
       " 1,\n",
       " 0,\n",
       " 1,\n",
       " 2,\n",
       " 1,\n",
       " 1,\n",
       " 2,\n",
       " 0,\n",
       " 0,\n",
       " 0,\n",
       " 0,\n",
       " 1,\n",
       " 2,\n",
       " 1,\n",
       " 1,\n",
       " 2,\n",
       " 0,\n",
       " 2,\n",
       " 0,\n",
       " 2,\n",
       " 1,\n",
       " 2,\n",
       " 2,\n",
       " 2,\n",
       " 0,\n",
       " 0,\n",
       " 0,\n",
       " 0,\n",
       " 1,\n",
       " 0,\n",
       " 0,\n",
       " 2,\n",
       " 1,\n",
       " 0,\n",
       " 0,\n",
       " 0,\n",
       " 2,\n",
       " 1,\n",
       " 1,\n",
       " 0,\n",
       " 0]"
      ]
     },
     "execution_count": 143,
     "metadata": {},
     "output_type": "execute_result"
    }
   ],
   "source": [
    "final_preds"
   ]
  },
  {
   "cell_type": "code",
   "execution_count": 144,
   "metadata": {},
   "outputs": [],
   "source": [
    "# evaluate model\n",
    "\n",
    "from sklearn.metrics import classification_report, confusion_matrix"
   ]
  },
  {
   "cell_type": "code",
   "execution_count": 145,
   "metadata": {},
   "outputs": [
    {
     "name": "stdout",
     "output_type": "stream",
     "text": [
      "[[19  0  0]\n",
      " [ 0 13  0]\n",
      " [ 0  1 12]]\n"
     ]
    }
   ],
   "source": [
    "print(confusion_matrix(y_test, final_preds))"
   ]
  },
  {
   "cell_type": "code",
   "execution_count": 146,
   "metadata": {},
   "outputs": [
    {
     "name": "stdout",
     "output_type": "stream",
     "text": [
      "             precision    recall  f1-score   support\n",
      "\n",
      "          0       1.00      1.00      1.00        19\n",
      "          1       0.93      1.00      0.96        13\n",
      "          2       1.00      0.92      0.96        13\n",
      "\n",
      "avg / total       0.98      0.98      0.98        45\n",
      "\n"
     ]
    }
   ],
   "source": [
    "print(classification_report(y_test, final_preds))"
   ]
  },
  {
   "cell_type": "code",
   "execution_count": null,
   "metadata": {},
   "outputs": [],
   "source": []
  },
  {
   "cell_type": "code",
   "execution_count": null,
   "metadata": {},
   "outputs": [],
   "source": []
  }
 ],
 "metadata": {
  "kernelspec": {
   "display_name": "Python 3",
   "language": "python",
   "name": "python3"
  },
  "language_info": {
   "codemirror_mode": {
    "name": "ipython",
    "version": 3
   },
   "file_extension": ".py",
   "mimetype": "text/x-python",
   "name": "python",
   "nbconvert_exporter": "python",
   "pygments_lexer": "ipython3",
   "version": "3.6.5"
  }
 },
 "nbformat": 4,
 "nbformat_minor": 2
}
