{
 "cells": [
  {
   "cell_type": "markdown",
   "metadata": {},
   "source": [
    "Textbook for this section is ISL (same book as Frameworks I)\n",
    "\n",
    "\n",
    "Machine Learning is a method of data analysis that automates analytical model building\n",
    "\n",
    "Using algorithms that iteratively learn from data, machine learning allows computers to find hidden insights without being explicitly programmed where to look.\n",
    "\n",
    "\n",
    "Steps:\n",
    "\n",
    "- Data acquisition\n",
    "\n",
    "- Data cleaning\n",
    "\n",
    "- Training and testing models (iterative/cyclical process)\n",
    "\n",
    "- Model deployment\n",
    "\n",
    "\n",
    "3 main types of algorithms:\n",
    "\n",
    "- Supervised\n",
    "\n",
    "- Unsupervised\n",
    "\n",
    "- Reinforcement"
   ]
  },
  {
   "cell_type": "markdown",
   "metadata": {},
   "source": [
    "Python uses Sci-kit Learn to conduct machine learning\n",
    "\n",
    "- Every algorithm is exposed in scikit learn via an estimator\n",
    "\n",
    "- General Form: from sklearn.family import model\n",
    "\n",
    "- Different parameters (arguments) are available within each function to tailor to specific needs\n",
    "\n",
    "train_test_split (from sklearn.cross_validation) splits data into test and training sets\n",
    "\n",
    "model.fit(x training set, y training set) will fit values for the model \n",
    "\n",
    "model.predict(x testing set) will generate predictions \n",
    "\n",
    "- model.predict_proba(x testing set) will generate prediction probabilities that observation has each categorical label; the category with the highest probability is returned by model.predict()\n",
    "\n",
    "- model.score() score between 0 and 1 to indicate goodness of fit (higher is better)\n",
    "\n",
    "- model.transform() can transform data based on an unsupervised model \n",
    "\n",
    "Evaluate by comparing predicted values to actual values"
   ]
  },
  {
   "cell_type": "code",
   "execution_count": null,
   "metadata": {},
   "outputs": [],
   "source": []
  }
 ],
 "metadata": {
  "kernelspec": {
   "display_name": "Python 3",
   "language": "python",
   "name": "python3"
  },
  "language_info": {
   "codemirror_mode": {
    "name": "ipython",
    "version": 3
   },
   "file_extension": ".py",
   "mimetype": "text/x-python",
   "name": "python",
   "nbconvert_exporter": "python",
   "pygments_lexer": "ipython3",
   "version": "3.6.5"
  }
 },
 "nbformat": 4,
 "nbformat_minor": 2
}
